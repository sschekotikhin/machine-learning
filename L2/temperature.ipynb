{
 "cells": [
  {
   "cell_type": "code",
   "execution_count": 1,
   "metadata": {},
   "outputs": [],
   "source": [
    "import pandas as pd\n",
    "import numpy as np\n",
    "\n",
    "from sklearn.model_selection import train_test_split"
   ]
  },
  {
   "cell_type": "code",
   "execution_count": 317,
   "metadata": {},
   "outputs": [
    {
     "data": {
      "text/html": [
       "<div>\n",
       "<style scoped>\n",
       "    .dataframe tbody tr th:only-of-type {\n",
       "        vertical-align: middle;\n",
       "    }\n",
       "\n",
       "    .dataframe tbody tr th {\n",
       "        vertical-align: top;\n",
       "    }\n",
       "\n",
       "    .dataframe thead th {\n",
       "        text-align: right;\n",
       "    }\n",
       "</style>\n",
       "<table border=\"1\" class=\"dataframe\">\n",
       "  <thead>\n",
       "    <tr style=\"text-align: right;\">\n",
       "      <th></th>\n",
       "      <th>summary</th>\n",
       "      <th>precip_type</th>\n",
       "      <th>temperature</th>\n",
       "      <th>apparent_temperature</th>\n",
       "      <th>Humidity</th>\n",
       "      <th>Wind Speed (km/h)</th>\n",
       "      <th>Wind Bearing (degrees)</th>\n",
       "      <th>Visibility (km)</th>\n",
       "      <th>Loud Cover</th>\n",
       "      <th>Pressure (millibars)</th>\n",
       "      <th>daily_summary</th>\n",
       "    </tr>\n",
       "  </thead>\n",
       "  <tbody>\n",
       "    <tr>\n",
       "      <th>0</th>\n",
       "      <td>0</td>\n",
       "      <td>0</td>\n",
       "      <td>9.472222</td>\n",
       "      <td>7.388889</td>\n",
       "      <td>0.89</td>\n",
       "      <td>14.1197</td>\n",
       "      <td>251.0</td>\n",
       "      <td>15.8263</td>\n",
       "      <td>0.0</td>\n",
       "      <td>1015.13</td>\n",
       "      <td>0</td>\n",
       "    </tr>\n",
       "    <tr>\n",
       "      <th>1</th>\n",
       "      <td>0</td>\n",
       "      <td>0</td>\n",
       "      <td>9.355556</td>\n",
       "      <td>7.227778</td>\n",
       "      <td>0.86</td>\n",
       "      <td>14.2646</td>\n",
       "      <td>259.0</td>\n",
       "      <td>15.8263</td>\n",
       "      <td>0.0</td>\n",
       "      <td>1015.63</td>\n",
       "      <td>0</td>\n",
       "    </tr>\n",
       "    <tr>\n",
       "      <th>2</th>\n",
       "      <td>1</td>\n",
       "      <td>0</td>\n",
       "      <td>9.377778</td>\n",
       "      <td>9.377778</td>\n",
       "      <td>0.89</td>\n",
       "      <td>3.9284</td>\n",
       "      <td>204.0</td>\n",
       "      <td>14.9569</td>\n",
       "      <td>0.0</td>\n",
       "      <td>1015.94</td>\n",
       "      <td>0</td>\n",
       "    </tr>\n",
       "    <tr>\n",
       "      <th>3</th>\n",
       "      <td>0</td>\n",
       "      <td>0</td>\n",
       "      <td>8.288889</td>\n",
       "      <td>5.944444</td>\n",
       "      <td>0.83</td>\n",
       "      <td>14.1036</td>\n",
       "      <td>269.0</td>\n",
       "      <td>15.8263</td>\n",
       "      <td>0.0</td>\n",
       "      <td>1016.41</td>\n",
       "      <td>0</td>\n",
       "    </tr>\n",
       "    <tr>\n",
       "      <th>4</th>\n",
       "      <td>1</td>\n",
       "      <td>0</td>\n",
       "      <td>8.755556</td>\n",
       "      <td>6.977778</td>\n",
       "      <td>0.83</td>\n",
       "      <td>11.0446</td>\n",
       "      <td>259.0</td>\n",
       "      <td>15.8263</td>\n",
       "      <td>0.0</td>\n",
       "      <td>1016.51</td>\n",
       "      <td>0</td>\n",
       "    </tr>\n",
       "    <tr>\n",
       "      <th>...</th>\n",
       "      <td>...</td>\n",
       "      <td>...</td>\n",
       "      <td>...</td>\n",
       "      <td>...</td>\n",
       "      <td>...</td>\n",
       "      <td>...</td>\n",
       "      <td>...</td>\n",
       "      <td>...</td>\n",
       "      <td>...</td>\n",
       "      <td>...</td>\n",
       "      <td>...</td>\n",
       "    </tr>\n",
       "    <tr>\n",
       "      <th>495</th>\n",
       "      <td>0</td>\n",
       "      <td>0</td>\n",
       "      <td>21.177778</td>\n",
       "      <td>21.177778</td>\n",
       "      <td>0.43</td>\n",
       "      <td>19.8191</td>\n",
       "      <td>157.0</td>\n",
       "      <td>10.0464</td>\n",
       "      <td>0.0</td>\n",
       "      <td>1009.55</td>\n",
       "      <td>1</td>\n",
       "    </tr>\n",
       "    <tr>\n",
       "      <th>496</th>\n",
       "      <td>0</td>\n",
       "      <td>0</td>\n",
       "      <td>21.227778</td>\n",
       "      <td>21.227778</td>\n",
       "      <td>0.41</td>\n",
       "      <td>16.4703</td>\n",
       "      <td>156.0</td>\n",
       "      <td>11.2700</td>\n",
       "      <td>0.0</td>\n",
       "      <td>1009.04</td>\n",
       "      <td>1</td>\n",
       "    </tr>\n",
       "    <tr>\n",
       "      <th>497</th>\n",
       "      <td>0</td>\n",
       "      <td>0</td>\n",
       "      <td>20.100000</td>\n",
       "      <td>20.100000</td>\n",
       "      <td>0.45</td>\n",
       "      <td>13.7977</td>\n",
       "      <td>137.0</td>\n",
       "      <td>11.4471</td>\n",
       "      <td>0.0</td>\n",
       "      <td>1008.55</td>\n",
       "      <td>1</td>\n",
       "    </tr>\n",
       "    <tr>\n",
       "      <th>498</th>\n",
       "      <td>1</td>\n",
       "      <td>0</td>\n",
       "      <td>19.027778</td>\n",
       "      <td>19.027778</td>\n",
       "      <td>0.51</td>\n",
       "      <td>9.7888</td>\n",
       "      <td>147.0</td>\n",
       "      <td>11.2700</td>\n",
       "      <td>0.0</td>\n",
       "      <td>1008.17</td>\n",
       "      <td>1</td>\n",
       "    </tr>\n",
       "    <tr>\n",
       "      <th>499</th>\n",
       "      <td>1</td>\n",
       "      <td>0</td>\n",
       "      <td>17.850000</td>\n",
       "      <td>17.850000</td>\n",
       "      <td>0.59</td>\n",
       "      <td>14.0553</td>\n",
       "      <td>121.0</td>\n",
       "      <td>11.2056</td>\n",
       "      <td>0.0</td>\n",
       "      <td>1008.46</td>\n",
       "      <td>1</td>\n",
       "    </tr>\n",
       "  </tbody>\n",
       "</table>\n",
       "<p>500 rows × 11 columns</p>\n",
       "</div>"
      ],
      "text/plain": [
       "     summary  precip_type  temperature  apparent_temperature  Humidity  \\\n",
       "0          0            0     9.472222              7.388889      0.89   \n",
       "1          0            0     9.355556              7.227778      0.86   \n",
       "2          1            0     9.377778              9.377778      0.89   \n",
       "3          0            0     8.288889              5.944444      0.83   \n",
       "4          1            0     8.755556              6.977778      0.83   \n",
       "..       ...          ...          ...                   ...       ...   \n",
       "495        0            0    21.177778             21.177778      0.43   \n",
       "496        0            0    21.227778             21.227778      0.41   \n",
       "497        0            0    20.100000             20.100000      0.45   \n",
       "498        1            0    19.027778             19.027778      0.51   \n",
       "499        1            0    17.850000             17.850000      0.59   \n",
       "\n",
       "     Wind Speed (km/h)  Wind Bearing (degrees)  Visibility (km)  Loud Cover  \\\n",
       "0              14.1197                   251.0          15.8263         0.0   \n",
       "1              14.2646                   259.0          15.8263         0.0   \n",
       "2               3.9284                   204.0          14.9569         0.0   \n",
       "3              14.1036                   269.0          15.8263         0.0   \n",
       "4              11.0446                   259.0          15.8263         0.0   \n",
       "..                 ...                     ...              ...         ...   \n",
       "495            19.8191                   157.0          10.0464         0.0   \n",
       "496            16.4703                   156.0          11.2700         0.0   \n",
       "497            13.7977                   137.0          11.4471         0.0   \n",
       "498             9.7888                   147.0          11.2700         0.0   \n",
       "499            14.0553                   121.0          11.2056         0.0   \n",
       "\n",
       "     Pressure (millibars)  daily_summary  \n",
       "0                 1015.13              0  \n",
       "1                 1015.63              0  \n",
       "2                 1015.94              0  \n",
       "3                 1016.41              0  \n",
       "4                 1016.51              0  \n",
       "..                    ...            ...  \n",
       "495               1009.55              1  \n",
       "496               1009.04              1  \n",
       "497               1008.55              1  \n",
       "498               1008.17              1  \n",
       "499               1008.46              1  \n",
       "\n",
       "[500 rows x 11 columns]"
      ]
     },
     "execution_count": 317,
     "metadata": {},
     "output_type": "execute_result"
    }
   ],
   "source": [
    "df = pd.read_csv('weatherHistory.csv')\n",
    "df = df.drop(labels=['Formatted Date'], axis=1)\n",
    "\n",
    "df = df.rename(\n",
    "    columns={\n",
    "        'Precip Type': 'precip_type',\n",
    "        'Summary': 'summary',\n",
    "        'Daily Summary': 'daily_summary',\n",
    "        'Temperature (C)': 'temperature',\n",
    "        'Apparent Temperature (C)': 'apparent_temperature'\n",
    "    }\n",
    ")\n",
    "\n",
    "# конвертируем все признаки в числа\n",
    "summaries = list(df['summary'].unique())\n",
    "df['summary'] = df['summary'].apply(lambda x: summaries.index(x))\n",
    "\n",
    "precip_types = list(df['precip_type'].unique())\n",
    "df['precip_type'] = df['precip_type'].apply(lambda x: precip_types.index(x))\n",
    "\n",
    "daily_summaries = list(df['daily_summary'].unique())\n",
    "df['daily_summary'] = df['daily_summary'].apply(lambda x: daily_summaries.index(x))\n",
    "\n",
    "# prepared_df = df.query('temperature > 0 & temperature < 20').head(500)\n",
    "prepared_df = df.head(500)\n",
    "\n",
    "prepared_df"
   ]
  },
  {
   "cell_type": "code",
   "execution_count": 319,
   "metadata": {},
   "outputs": [
    {
     "data": {
      "text/html": [
       "<div>\n",
       "<style scoped>\n",
       "    .dataframe tbody tr th:only-of-type {\n",
       "        vertical-align: middle;\n",
       "    }\n",
       "\n",
       "    .dataframe tbody tr th {\n",
       "        vertical-align: top;\n",
       "    }\n",
       "\n",
       "    .dataframe thead th {\n",
       "        text-align: right;\n",
       "    }\n",
       "</style>\n",
       "<table border=\"1\" class=\"dataframe\">\n",
       "  <thead>\n",
       "    <tr style=\"text-align: right;\">\n",
       "      <th></th>\n",
       "      <th>summary</th>\n",
       "      <th>precip_type</th>\n",
       "      <th>Humidity</th>\n",
       "      <th>Wind Speed (km/h)</th>\n",
       "      <th>Wind Bearing (degrees)</th>\n",
       "      <th>Visibility (km)</th>\n",
       "      <th>Loud Cover</th>\n",
       "      <th>Pressure (millibars)</th>\n",
       "      <th>daily_summary</th>\n",
       "    </tr>\n",
       "  </thead>\n",
       "  <tbody>\n",
       "    <tr>\n",
       "      <th>0</th>\n",
       "      <td>0</td>\n",
       "      <td>0</td>\n",
       "      <td>0.89</td>\n",
       "      <td>14.1197</td>\n",
       "      <td>251.0</td>\n",
       "      <td>15.8263</td>\n",
       "      <td>0.0</td>\n",
       "      <td>1015.13</td>\n",
       "      <td>0</td>\n",
       "    </tr>\n",
       "    <tr>\n",
       "      <th>1</th>\n",
       "      <td>0</td>\n",
       "      <td>0</td>\n",
       "      <td>0.86</td>\n",
       "      <td>14.2646</td>\n",
       "      <td>259.0</td>\n",
       "      <td>15.8263</td>\n",
       "      <td>0.0</td>\n",
       "      <td>1015.63</td>\n",
       "      <td>0</td>\n",
       "    </tr>\n",
       "    <tr>\n",
       "      <th>2</th>\n",
       "      <td>1</td>\n",
       "      <td>0</td>\n",
       "      <td>0.89</td>\n",
       "      <td>3.9284</td>\n",
       "      <td>204.0</td>\n",
       "      <td>14.9569</td>\n",
       "      <td>0.0</td>\n",
       "      <td>1015.94</td>\n",
       "      <td>0</td>\n",
       "    </tr>\n",
       "    <tr>\n",
       "      <th>3</th>\n",
       "      <td>0</td>\n",
       "      <td>0</td>\n",
       "      <td>0.83</td>\n",
       "      <td>14.1036</td>\n",
       "      <td>269.0</td>\n",
       "      <td>15.8263</td>\n",
       "      <td>0.0</td>\n",
       "      <td>1016.41</td>\n",
       "      <td>0</td>\n",
       "    </tr>\n",
       "    <tr>\n",
       "      <th>4</th>\n",
       "      <td>1</td>\n",
       "      <td>0</td>\n",
       "      <td>0.83</td>\n",
       "      <td>11.0446</td>\n",
       "      <td>259.0</td>\n",
       "      <td>15.8263</td>\n",
       "      <td>0.0</td>\n",
       "      <td>1016.51</td>\n",
       "      <td>0</td>\n",
       "    </tr>\n",
       "    <tr>\n",
       "      <th>...</th>\n",
       "      <td>...</td>\n",
       "      <td>...</td>\n",
       "      <td>...</td>\n",
       "      <td>...</td>\n",
       "      <td>...</td>\n",
       "      <td>...</td>\n",
       "      <td>...</td>\n",
       "      <td>...</td>\n",
       "      <td>...</td>\n",
       "    </tr>\n",
       "    <tr>\n",
       "      <th>495</th>\n",
       "      <td>0</td>\n",
       "      <td>0</td>\n",
       "      <td>0.43</td>\n",
       "      <td>19.8191</td>\n",
       "      <td>157.0</td>\n",
       "      <td>10.0464</td>\n",
       "      <td>0.0</td>\n",
       "      <td>1009.55</td>\n",
       "      <td>1</td>\n",
       "    </tr>\n",
       "    <tr>\n",
       "      <th>496</th>\n",
       "      <td>0</td>\n",
       "      <td>0</td>\n",
       "      <td>0.41</td>\n",
       "      <td>16.4703</td>\n",
       "      <td>156.0</td>\n",
       "      <td>11.2700</td>\n",
       "      <td>0.0</td>\n",
       "      <td>1009.04</td>\n",
       "      <td>1</td>\n",
       "    </tr>\n",
       "    <tr>\n",
       "      <th>497</th>\n",
       "      <td>0</td>\n",
       "      <td>0</td>\n",
       "      <td>0.45</td>\n",
       "      <td>13.7977</td>\n",
       "      <td>137.0</td>\n",
       "      <td>11.4471</td>\n",
       "      <td>0.0</td>\n",
       "      <td>1008.55</td>\n",
       "      <td>1</td>\n",
       "    </tr>\n",
       "    <tr>\n",
       "      <th>498</th>\n",
       "      <td>1</td>\n",
       "      <td>0</td>\n",
       "      <td>0.51</td>\n",
       "      <td>9.7888</td>\n",
       "      <td>147.0</td>\n",
       "      <td>11.2700</td>\n",
       "      <td>0.0</td>\n",
       "      <td>1008.17</td>\n",
       "      <td>1</td>\n",
       "    </tr>\n",
       "    <tr>\n",
       "      <th>499</th>\n",
       "      <td>1</td>\n",
       "      <td>0</td>\n",
       "      <td>0.59</td>\n",
       "      <td>14.0553</td>\n",
       "      <td>121.0</td>\n",
       "      <td>11.2056</td>\n",
       "      <td>0.0</td>\n",
       "      <td>1008.46</td>\n",
       "      <td>1</td>\n",
       "    </tr>\n",
       "  </tbody>\n",
       "</table>\n",
       "<p>500 rows × 9 columns</p>\n",
       "</div>"
      ],
      "text/plain": [
       "     summary  precip_type  Humidity  Wind Speed (km/h)  \\\n",
       "0          0            0      0.89            14.1197   \n",
       "1          0            0      0.86            14.2646   \n",
       "2          1            0      0.89             3.9284   \n",
       "3          0            0      0.83            14.1036   \n",
       "4          1            0      0.83            11.0446   \n",
       "..       ...          ...       ...                ...   \n",
       "495        0            0      0.43            19.8191   \n",
       "496        0            0      0.41            16.4703   \n",
       "497        0            0      0.45            13.7977   \n",
       "498        1            0      0.51             9.7888   \n",
       "499        1            0      0.59            14.0553   \n",
       "\n",
       "     Wind Bearing (degrees)  Visibility (km)  Loud Cover  \\\n",
       "0                     251.0          15.8263         0.0   \n",
       "1                     259.0          15.8263         0.0   \n",
       "2                     204.0          14.9569         0.0   \n",
       "3                     269.0          15.8263         0.0   \n",
       "4                     259.0          15.8263         0.0   \n",
       "..                      ...              ...         ...   \n",
       "495                   157.0          10.0464         0.0   \n",
       "496                   156.0          11.2700         0.0   \n",
       "497                   137.0          11.4471         0.0   \n",
       "498                   147.0          11.2700         0.0   \n",
       "499                   121.0          11.2056         0.0   \n",
       "\n",
       "     Pressure (millibars)  daily_summary  \n",
       "0                 1015.13              0  \n",
       "1                 1015.63              0  \n",
       "2                 1015.94              0  \n",
       "3                 1016.41              0  \n",
       "4                 1016.51              0  \n",
       "..                    ...            ...  \n",
       "495               1009.55              1  \n",
       "496               1009.04              1  \n",
       "497               1008.55              1  \n",
       "498               1008.17              1  \n",
       "499               1008.46              1  \n",
       "\n",
       "[500 rows x 9 columns]"
      ]
     },
     "execution_count": 319,
     "metadata": {},
     "output_type": "execute_result"
    }
   ],
   "source": [
    "features = prepared_df.drop(labels=prepared_df.filter(like='temp').columns, axis=1)\n",
    "#              .drop(labels=['Summary', 'Precip Type', 'Daily Summary'], axis=1)\n",
    "features"
   ]
  },
  {
   "cell_type": "code",
   "execution_count": 320,
   "metadata": {
    "scrolled": true
   },
   "outputs": [
    {
     "data": {
      "text/plain": [
       "0       7.388889\n",
       "1       7.227778\n",
       "2       9.377778\n",
       "3       5.944444\n",
       "4       6.977778\n",
       "         ...    \n",
       "495    21.177778\n",
       "496    21.227778\n",
       "497    20.100000\n",
       "498    19.027778\n",
       "499    17.850000\n",
       "Name: apparent_temperature, Length: 500, dtype: float64"
      ]
     },
     "execution_count": 320,
     "metadata": {},
     "output_type": "execute_result"
    }
   ],
   "source": [
    "predicted = prepared_df['apparent_temperature']\n",
    "predicted"
   ]
  },
  {
   "cell_type": "code",
   "execution_count": 323,
   "metadata": {},
   "outputs": [],
   "source": [
    "X_train, X_test, y_train, y_test = train_test_split(features, predicted, random_state=42)"
   ]
  },
  {
   "cell_type": "markdown",
   "metadata": {},
   "source": [
    "## LinearRegression"
   ]
  },
  {
   "cell_type": "code",
   "execution_count": 77,
   "metadata": {},
   "outputs": [],
   "source": [
    "from sklearn.linear_model import LinearRegression"
   ]
  },
  {
   "cell_type": "code",
   "execution_count": 324,
   "metadata": {},
   "outputs": [
    {
     "data": {
      "text/plain": [
       "LinearRegression()"
      ]
     },
     "execution_count": 324,
     "metadata": {},
     "output_type": "execute_result"
    }
   ],
   "source": [
    "lr = LinearRegression()\n",
    "lr.fit(X_train, y_train)"
   ]
  },
  {
   "cell_type": "code",
   "execution_count": 325,
   "metadata": {},
   "outputs": [
    {
     "data": {
      "text/plain": [
       "0.6726011975431663"
      ]
     },
     "execution_count": 325,
     "metadata": {},
     "output_type": "execute_result"
    }
   ],
   "source": [
    "lr.score(X_train, y_train)"
   ]
  },
  {
   "cell_type": "code",
   "execution_count": 326,
   "metadata": {},
   "outputs": [
    {
     "data": {
      "text/plain": [
       "0.7174168240468951"
      ]
     },
     "execution_count": 326,
     "metadata": {},
     "output_type": "execute_result"
    }
   ],
   "source": [
    "lr.score(X_test, y_test)"
   ]
  },
  {
   "cell_type": "code",
   "execution_count": 329,
   "metadata": {},
   "outputs": [],
   "source": [
    "test = df.query('temperature < 0').drop(labels=['temperature', 'apparent_temperature'], axis=1).head(500)"
   ]
  },
  {
   "cell_type": "markdown",
   "metadata": {},
   "source": [
    "## Ridge"
   ]
  },
  {
   "cell_type": "code",
   "execution_count": 94,
   "metadata": {},
   "outputs": [],
   "source": [
    "from sklearn.linear_model import Ridge"
   ]
  },
  {
   "cell_type": "code",
   "execution_count": 331,
   "metadata": {},
   "outputs": [
    {
     "data": {
      "text/plain": [
       "Ridge(alpha=0.01)"
      ]
     },
     "execution_count": 331,
     "metadata": {},
     "output_type": "execute_result"
    }
   ],
   "source": [
    "ridge = Ridge(alpha=0.01)\n",
    "ridge.fit(X_train, y_train)"
   ]
  },
  {
   "cell_type": "code",
   "execution_count": 332,
   "metadata": {},
   "outputs": [
    {
     "data": {
      "text/plain": [
       "0.6726005502869081"
      ]
     },
     "execution_count": 332,
     "metadata": {},
     "output_type": "execute_result"
    }
   ],
   "source": [
    "ridge.score(X_train, y_train)"
   ]
  },
  {
   "cell_type": "code",
   "execution_count": 333,
   "metadata": {},
   "outputs": [
    {
     "data": {
      "text/plain": [
       "0.7172056179170984"
      ]
     },
     "execution_count": 333,
     "metadata": {},
     "output_type": "execute_result"
    }
   ],
   "source": [
    "ridge.score(X_test, y_test)"
   ]
  },
  {
   "cell_type": "code",
   "execution_count": null,
   "metadata": {},
   "outputs": [],
   "source": []
  },
  {
   "cell_type": "code",
   "execution_count": null,
   "metadata": {},
   "outputs": [],
   "source": []
  },
  {
   "cell_type": "code",
   "execution_count": null,
   "metadata": {},
   "outputs": [],
   "source": []
  },
  {
   "cell_type": "code",
   "execution_count": null,
   "metadata": {},
   "outputs": [],
   "source": []
  }
 ],
 "metadata": {
  "kernelspec": {
   "display_name": "Python 3",
   "language": "python",
   "name": "python3"
  },
  "language_info": {
   "codemirror_mode": {
    "name": "ipython",
    "version": 3
   },
   "file_extension": ".py",
   "mimetype": "text/x-python",
   "name": "python",
   "nbconvert_exporter": "python",
   "pygments_lexer": "ipython3",
   "version": "3.8.5"
  }
 },
 "nbformat": 4,
 "nbformat_minor": 4
}
